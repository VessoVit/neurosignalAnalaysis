{
 "cells": [
  {
   "cell_type": "code",
   "execution_count": 2,
   "metadata": {
    "collapsed": false,
    "deletable": true,
    "editable": true
   },
   "outputs": [],
   "source": [
    "import pandas as pd"
   ]
  },
  {
   "cell_type": "code",
   "execution_count": 3,
   "metadata": {
    "collapsed": false,
    "deletable": true,
    "editable": true
   },
   "outputs": [],
   "source": [
    "eeg = pd.read_csv(\"/home/vagrant/notebooks/data/raweeg1.csv\")"
   ]
  },
  {
   "cell_type": "code",
   "execution_count": 4,
   "metadata": {
    "collapsed": false,
    "deletable": true,
    "editable": true
   },
   "outputs": [
    {
     "data": {
      "text/html": [
       "<div style=\"max-height:1000px;max-width:1500px;overflow:auto;\">\n",
       "<table border=\"1\" class=\"dataframe\">\n",
       "  <thead>\n",
       "    <tr style=\"text-align: right;\">\n",
       "      <th></th>\n",
       "      <th>Fp1</th>\n",
       "      <th>Fp2</th>\n",
       "      <th>C5</th>\n",
       "      <th>C6</th>\n",
       "      <th>P7</th>\n",
       "      <th>O1</th>\n",
       "      <th>O2</th>\n",
       "      <th>P8</th>\n",
       "    </tr>\n",
       "  </thead>\n",
       "  <tbody>\n",
       "    <tr>\n",
       "      <th>0</th>\n",
       "      <td>-22.342072</td>\n",
       "      <td>-26.920021</td>\n",
       "      <td>-201.342306</td>\n",
       "      <td> 22.000333</td>\n",
       "      <td>-21.008648</td>\n",
       "      <td>-16.910928</td>\n",
       "      <td>-99.519711</td>\n",
       "      <td>-30.461569</td>\n",
       "    </tr>\n",
       "    <tr>\n",
       "      <th>1</th>\n",
       "      <td>-22.339912</td>\n",
       "      <td>-27.188002</td>\n",
       "      <td>-201.342306</td>\n",
       "      <td> 21.917743</td>\n",
       "      <td>-20.996983</td>\n",
       "      <td>-16.914048</td>\n",
       "      <td>-99.966290</td>\n",
       "      <td>-30.989923</td>\n",
       "    </tr>\n",
       "    <tr>\n",
       "      <th>2</th>\n",
       "      <td>-22.386595</td>\n",
       "      <td>-26.970089</td>\n",
       "      <td>-201.342306</td>\n",
       "      <td> 22.047329</td>\n",
       "      <td>-21.030921</td>\n",
       "      <td>-16.977125</td>\n",
       "      <td>-99.891908</td>\n",
       "      <td>-30.774338</td>\n",
       "    </tr>\n",
       "    <tr>\n",
       "      <th>3</th>\n",
       "      <td>-22.408005</td>\n",
       "      <td>-26.538079</td>\n",
       "      <td>-201.342306</td>\n",
       "      <td> 22.214670</td>\n",
       "      <td>-21.055883</td>\n",
       "      <td>-17.004511</td>\n",
       "      <td>-99.421879</td>\n",
       "      <td>-30.098877</td>\n",
       "    </tr>\n",
       "    <tr>\n",
       "      <th>4</th>\n",
       "      <td>-22.391972</td>\n",
       "      <td>-26.463121</td>\n",
       "      <td>-201.342306</td>\n",
       "      <td> 22.210229</td>\n",
       "      <td>-21.047483</td>\n",
       "      <td>-16.972709</td>\n",
       "      <td>-99.208671</td>\n",
       "      <td>-29.860779</td>\n",
       "    </tr>\n",
       "  </tbody>\n",
       "</table>\n",
       "</div>"
      ],
      "text/plain": [
       "         Fp1        Fp2          C5         C6         P7         O1  \\\n",
       "0 -22.342072 -26.920021 -201.342306  22.000333 -21.008648 -16.910928   \n",
       "1 -22.339912 -27.188002 -201.342306  21.917743 -20.996983 -16.914048   \n",
       "2 -22.386595 -26.970089 -201.342306  22.047329 -21.030921 -16.977125   \n",
       "3 -22.408005 -26.538079 -201.342306  22.214670 -21.055883 -17.004511   \n",
       "4 -22.391972 -26.463121 -201.342306  22.210229 -21.047483 -16.972709   \n",
       "\n",
       "          O2         P8  \n",
       "0 -99.519711 -30.461569  \n",
       "1 -99.966290 -30.989923  \n",
       "2 -99.891908 -30.774338  \n",
       "3 -99.421879 -30.098877  \n",
       "4 -99.208671 -29.860779  "
      ]
     },
     "execution_count": 4,
     "metadata": {},
     "output_type": "execute_result"
    }
   ],
   "source": [
    "eeg.head()"
   ]
  },
  {
   "cell_type": "code",
   "execution_count": 5,
   "metadata": {
    "collapsed": false,
    "deletable": true,
    "editable": true
   },
   "outputs": [
    {
     "data": {
      "text/plain": [
       "[<matplotlib.lines.Line2D at 0x7f6a8e5e2b50>,\n",
       " <matplotlib.lines.Line2D at 0x7f6a8e5e2e10>,\n",
       " <matplotlib.lines.Line2D at 0x7f6a8e5f4090>,\n",
       " <matplotlib.lines.Line2D at 0x7f6a8e5f4250>,\n",
       " <matplotlib.lines.Line2D at 0x7f6a8e5f4410>,\n",
       " <matplotlib.lines.Line2D at 0x7f6a8e5f45d0>,\n",
       " <matplotlib.lines.Line2D at 0x7f6a8e5f4790>,\n",
       " <matplotlib.lines.Line2D at 0x7f6a8e609990>]"
      ]
     },
     "execution_count": 5,
     "metadata": {},
     "output_type": "execute_result"
    },
    {
     "data": {
      "image/png": "[encoded data removed]",
      "text/plain": [
       "<matplotlib.figure.Figure at 0x7f6a8eacb350>"
      ]
     },
     "metadata": {},
     "output_type": "display_data"
    }
   ],
   "source": [
    "plot(eeg)"
   ]
  },
  {
   "cell_type": "code",
   "execution_count": 7,
   "metadata": {
    "collapsed": false,
    "deletable": true,
    "editable": true
   },
   "outputs": [
    {
     "data": {
      "text/plain": [
       "Int64Index([0, 1, 2, 3, 4, 5, 6, 7, 8, 9, 10, 11, 12, 13, 14, 15, 16, 17, 18, 19, 20, 21, 22, 23, 24, 25, 26, 27, 28, 29, 30, 31, 32, 33, 34, 35, 36, 37, 38, 39, 40, 41, 42, 43, 44, 45, 46, 47, 48, 49, 50, 51, 52, 53, 54, 55, 56, 57, 58, 59, 60, 61, 62, 63, 64, 65, 66, 67, 68, 69, 70, 71, 72, 73, 74, 75, 76, 77, 78, 79, 80, 81, 82, 83, 84, 85, 86, 87, 88, 89, 90, 91, 92, 93, 94, 95, 96, 97, 98, 99, ...], dtype='int64')"
      ]
     },
     "execution_count": 7,
     "metadata": {},
     "output_type": "execute_result"
    }
   ],
   "source": [
    "eeg.index"
   ]
  },
  {
   "cell_type": "code",
   "execution_count": 8,
   "metadata": {
    "collapsed": false,
    "deletable": true,
    "editable": true
   },
   "outputs": [
    {
     "data": {
      "text/html": [
       "<div style=\"max-height:1000px;max-width:1500px;overflow:auto;\">\n",
       "<table border=\"1\" class=\"dataframe\">\n",
       "  <thead>\n",
       "    <tr style=\"text-align: right;\">\n",
       "      <th></th>\n",
       "      <th>Fp1</th>\n",
       "      <th>Fp2</th>\n",
       "      <th>C5</th>\n",
       "      <th>C6</th>\n",
       "      <th>P7</th>\n",
       "      <th>O1</th>\n",
       "      <th>O2</th>\n",
       "      <th>P8</th>\n",
       "    </tr>\n",
       "  </thead>\n",
       "  <tbody>\n",
       "    <tr>\n",
       "      <th>count</th>\n",
       "      <td> 2001.000000</td>\n",
       "      <td> 2001.000000</td>\n",
       "      <td> 2001.000000</td>\n",
       "      <td> 2001.000000</td>\n",
       "      <td> 2001.000000</td>\n",
       "      <td> 2001.000000</td>\n",
       "      <td> 2001.000000</td>\n",
       "      <td> 2001.000000</td>\n",
       "    </tr>\n",
       "    <tr>\n",
       "      <th>mean</th>\n",
       "      <td>  -22.521975</td>\n",
       "      <td>  -20.742793</td>\n",
       "      <td> -201.342306</td>\n",
       "      <td>   23.917914</td>\n",
       "      <td>  -19.980865</td>\n",
       "      <td>  -17.281265</td>\n",
       "      <td>  -96.387514</td>\n",
       "      <td>  -23.672349</td>\n",
       "    </tr>\n",
       "    <tr>\n",
       "      <th>std</th>\n",
       "      <td>    0.241689</td>\n",
       "      <td>    2.735524</td>\n",
       "      <td>    0.000005</td>\n",
       "      <td>    0.873248</td>\n",
       "      <td>    0.481702</td>\n",
       "      <td>    0.311858</td>\n",
       "      <td>    2.517279</td>\n",
       "      <td>    2.198386</td>\n",
       "    </tr>\n",
       "    <tr>\n",
       "      <th>min</th>\n",
       "      <td>  -22.952703</td>\n",
       "      <td>  -27.188002</td>\n",
       "      <td> -201.342306</td>\n",
       "      <td>   21.692149</td>\n",
       "      <td>  -21.058019</td>\n",
       "      <td>  -17.825255</td>\n",
       "      <td> -100.546847</td>\n",
       "      <td>  -30.989923</td>\n",
       "    </tr>\n",
       "    <tr>\n",
       "      <th>25%</th>\n",
       "      <td>  -22.693867</td>\n",
       "      <td>  -22.584467</td>\n",
       "      <td> -201.342306</td>\n",
       "      <td>   23.311123</td>\n",
       "      <td>  -20.320802</td>\n",
       "      <td>  -17.450610</td>\n",
       "      <td>  -98.103913</td>\n",
       "      <td>  -24.891527</td>\n",
       "    </tr>\n",
       "    <tr>\n",
       "      <th>50%</th>\n",
       "      <td>  -22.580626</td>\n",
       "      <td>  -21.045995</td>\n",
       "      <td> -201.342306</td>\n",
       "      <td>   23.714883</td>\n",
       "      <td>  -19.968190</td>\n",
       "      <td>  -17.318408</td>\n",
       "      <td>  -97.301962</td>\n",
       "      <td>  -23.136606</td>\n",
       "    </tr>\n",
       "    <tr>\n",
       "      <th>75%</th>\n",
       "      <td>  -22.380547</td>\n",
       "      <td>  -18.400268</td>\n",
       "      <td> -201.342306</td>\n",
       "      <td>   24.700856</td>\n",
       "      <td>  -19.588385</td>\n",
       "      <td>  -17.145690</td>\n",
       "      <td>  -94.246043</td>\n",
       "      <td>  -21.994285</td>\n",
       "    </tr>\n",
       "    <tr>\n",
       "      <th>max</th>\n",
       "      <td>  -21.483909</td>\n",
       "      <td>  -15.638757</td>\n",
       "      <td> -201.342306</td>\n",
       "      <td>   25.941081</td>\n",
       "      <td>  -18.621037</td>\n",
       "      <td>  -16.041004</td>\n",
       "      <td>  -89.292969</td>\n",
       "      <td>  -20.511329</td>\n",
       "    </tr>\n",
       "  </tbody>\n",
       "</table>\n",
       "</div>"
      ],
      "text/plain": [
       "               Fp1          Fp2           C5           C6           P7  \\\n",
       "count  2001.000000  2001.000000  2001.000000  2001.000000  2001.000000   \n",
       "mean    -22.521975   -20.742793  -201.342306    23.917914   -19.980865   \n",
       "std       0.241689     2.735524     0.000005     0.873248     0.481702   \n",
       "min     -22.952703   -27.188002  -201.342306    21.692149   -21.058019   \n",
       "25%     -22.693867   -22.584467  -201.342306    23.311123   -20.320802   \n",
       "50%     -22.580626   -21.045995  -201.342306    23.714883   -19.968190   \n",
       "75%     -22.380547   -18.400268  -201.342306    24.700856   -19.588385   \n",
       "max     -21.483909   -15.638757  -201.342306    25.941081   -18.621037   \n",
       "\n",
       "                O1           O2           P8  \n",
       "count  2001.000000  2001.000000  2001.000000  \n",
       "mean    -17.281265   -96.387514   -23.672349  \n",
       "std       0.311858     2.517279     2.198386  \n",
       "min     -17.825255  -100.546847   -30.989923  \n",
       "25%     -17.450610   -98.103913   -24.891527  \n",
       "50%     -17.318408   -97.301962   -23.136606  \n",
       "75%     -17.145690   -94.246043   -21.994285  \n",
       "max     -16.041004   -89.292969   -20.511329  "
      ]
     },
     "execution_count": 8,
     "metadata": {},
     "output_type": "execute_result"
    }
   ],
   "source": [
    "eeg.describe()"
   ]
  },
  {
   "cell_type": "code",
   "execution_count": 1,
   "metadata": {
    "collapsed": false,
    "deletable": true,
    "editable": true
   },
   "outputs": [],
   "source": [
    "import mne"
   ]
  },
  {
   "cell_type": "code",
   "execution_count": null,
   "metadata": {
    "collapsed": false,
    "deletable": true,
    "editable": true
   },
   "outputs": [],
   "source": [
    "raw = mne.io.read_"
   ]
  }
 ],
 "metadata": {
  "kernelspec": {
   "display_name": "Python 2",
   "language": "python",
   "name": "python2"
  },
  "language_info": {
   "codemirror_mode": {
    "name": "ipython",
    "version": 2
   },
   "file_extension": ".py",
   "mimetype": "text/x-python",
   "name": "python",
   "nbconvert_exporter": "python",
   "pygments_lexer": "ipython2",
   "version": "2.7.6"
  }
 },
 "nbformat": 4,
 "nbformat_minor": 0
}
